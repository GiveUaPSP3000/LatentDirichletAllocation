{
 "cells": [
  {
   "cell_type": "markdown",
   "metadata": {},
   "source": [
    "# 1. Import Library"
   ]
  },
  {
   "cell_type": "code",
   "execution_count": 1,
   "metadata": {},
   "outputs": [],
   "source": [
    "import pandas as pd\n",
    "from sklearn.feature_extraction.text import TfidfVectorizer, CountVectorizer\n",
    "from sklearn.decomposition import LatentDirichletAllocation\n",
    "from TextPreprocessing import text_preprocessing"
   ]
  },
  {
   "cell_type": "markdown",
   "metadata": {},
   "source": [
    "# 2. Check Data"
   ]
  },
  {
   "cell_type": "code",
   "execution_count": 3,
   "metadata": {
    "scrolled": true
   },
   "outputs": [
    {
     "data": {
      "text/plain": "      sn                                           Question  \\\n0      1          What are Autism Spectrum Disorders (ASD)?   \n1      2                              How common is autism?   \n2      3               What causes autism? Can it be cured?   \n3      4  Why doesn’t intervention center refer to its s...   \n4      5   What are the types of Autism Spectrum Disorders?   \n..   ...                                                ...   \n221  222  Do people with an autism spectrum disorder alw...   \n222  223  How early can an autism spectrum disorder be r...   \n223  224  What can parents do to help their child with a...   \n224  225             What causes autism spectrum disorders?   \n225  226  Are childhood vaccines responsible for autism ...   \n\n                                           Long_Answer  Short_Answer  \\\n0    ASD refers to a wide spectrum of neurodevelopm...           NaN   \n1    According to a 2020 report commissioned by the...           NaN   \n2    The causes of this complex disorder remain unc...           NaN   \n3    Our students are children or youth who are cha...           NaN   \n4    Autistic Disorder; Asperger Syndrome; Pervasiv...           NaN   \n..                                                 ...           ...   \n221  The level of intellectual functioning is extre...           NaN   \n222  Identifying an autism spectrum disorder is dif...           NaN   \n223  Parents have an essential role in providing su...           NaN   \n224  Scientific evidence suggests that various fact...           NaN   \n225  Available epidemiological data show that there...           NaN   \n\n                                                Source  Remarks  \n0              http://birchtreecenter.org/learn/autism      NaN  \n1              http://birchtreecenter.org/learn/autism      NaN  \n2              http://birchtreecenter.org/learn/autism      NaN  \n3              http://birchtreecenter.org/learn/autism      NaN  \n4    http://dhss.alaska.gov/dph/wcfh/Pages/autism/s...      NaN  \n..                                                 ...      ...  \n221  https://www.who.int/news-room/q-a-detail/quest...      NaN  \n222  https://www.who.int/news-room/q-a-detail/quest...      NaN  \n223  https://www.who.int/news-room/q-a-detail/quest...      NaN  \n224  https://www.who.int/news-room/q-a-detail/quest...      NaN  \n225  https://www.who.int/news-room/q-a-detail/quest...      NaN  \n\n[226 rows x 6 columns]",
      "text/html": "<div>\n<style scoped>\n    .dataframe tbody tr th:only-of-type {\n        vertical-align: middle;\n    }\n\n    .dataframe tbody tr th {\n        vertical-align: top;\n    }\n\n    .dataframe thead th {\n        text-align: right;\n    }\n</style>\n<table border=\"1\" class=\"dataframe\">\n  <thead>\n    <tr style=\"text-align: right;\">\n      <th></th>\n      <th>sn</th>\n      <th>Question</th>\n      <th>Long_Answer</th>\n      <th>Short_Answer</th>\n      <th>Source</th>\n      <th>Remarks</th>\n    </tr>\n  </thead>\n  <tbody>\n    <tr>\n      <th>0</th>\n      <td>1</td>\n      <td>What are Autism Spectrum Disorders (ASD)?</td>\n      <td>ASD refers to a wide spectrum of neurodevelopm...</td>\n      <td>NaN</td>\n      <td>http://birchtreecenter.org/learn/autism</td>\n      <td>NaN</td>\n    </tr>\n    <tr>\n      <th>1</th>\n      <td>2</td>\n      <td>How common is autism?</td>\n      <td>According to a 2020 report commissioned by the...</td>\n      <td>NaN</td>\n      <td>http://birchtreecenter.org/learn/autism</td>\n      <td>NaN</td>\n    </tr>\n    <tr>\n      <th>2</th>\n      <td>3</td>\n      <td>What causes autism? Can it be cured?</td>\n      <td>The causes of this complex disorder remain unc...</td>\n      <td>NaN</td>\n      <td>http://birchtreecenter.org/learn/autism</td>\n      <td>NaN</td>\n    </tr>\n    <tr>\n      <th>3</th>\n      <td>4</td>\n      <td>Why doesn’t intervention center refer to its s...</td>\n      <td>Our students are children or youth who are cha...</td>\n      <td>NaN</td>\n      <td>http://birchtreecenter.org/learn/autism</td>\n      <td>NaN</td>\n    </tr>\n    <tr>\n      <th>4</th>\n      <td>5</td>\n      <td>What are the types of Autism Spectrum Disorders?</td>\n      <td>Autistic Disorder; Asperger Syndrome; Pervasiv...</td>\n      <td>NaN</td>\n      <td>http://dhss.alaska.gov/dph/wcfh/Pages/autism/s...</td>\n      <td>NaN</td>\n    </tr>\n    <tr>\n      <th>...</th>\n      <td>...</td>\n      <td>...</td>\n      <td>...</td>\n      <td>...</td>\n      <td>...</td>\n      <td>...</td>\n    </tr>\n    <tr>\n      <th>221</th>\n      <td>222</td>\n      <td>Do people with an autism spectrum disorder alw...</td>\n      <td>The level of intellectual functioning is extre...</td>\n      <td>NaN</td>\n      <td>https://www.who.int/news-room/q-a-detail/quest...</td>\n      <td>NaN</td>\n    </tr>\n    <tr>\n      <th>222</th>\n      <td>223</td>\n      <td>How early can an autism spectrum disorder be r...</td>\n      <td>Identifying an autism spectrum disorder is dif...</td>\n      <td>NaN</td>\n      <td>https://www.who.int/news-room/q-a-detail/quest...</td>\n      <td>NaN</td>\n    </tr>\n    <tr>\n      <th>223</th>\n      <td>224</td>\n      <td>What can parents do to help their child with a...</td>\n      <td>Parents have an essential role in providing su...</td>\n      <td>NaN</td>\n      <td>https://www.who.int/news-room/q-a-detail/quest...</td>\n      <td>NaN</td>\n    </tr>\n    <tr>\n      <th>224</th>\n      <td>225</td>\n      <td>What causes autism spectrum disorders?</td>\n      <td>Scientific evidence suggests that various fact...</td>\n      <td>NaN</td>\n      <td>https://www.who.int/news-room/q-a-detail/quest...</td>\n      <td>NaN</td>\n    </tr>\n    <tr>\n      <th>225</th>\n      <td>226</td>\n      <td>Are childhood vaccines responsible for autism ...</td>\n      <td>Available epidemiological data show that there...</td>\n      <td>NaN</td>\n      <td>https://www.who.int/news-room/q-a-detail/quest...</td>\n      <td>NaN</td>\n    </tr>\n  </tbody>\n</table>\n<p>226 rows × 6 columns</p>\n</div>"
     },
     "execution_count": 3,
     "metadata": {},
     "output_type": "execute_result"
    }
   ],
   "source": [
    "# Read data\n",
    "pd.set_option('display.max_columns', None)\n",
    "\n",
    "# data = pd.read_excel('./ASD FAQ KB v001.xlsx', sheet_name='FAQ')\n",
    "data = pd.read_excel('./ASD FAQ KB v001.xlsx', sheet_name='FAQ', engine='openpyxl')\n",
    "data"
   ]
  },
  {
   "cell_type": "markdown",
   "metadata": {},
   "source": [
    "# 3. Data Preprocessing"
   ]
  },
  {
   "cell_type": "code",
   "execution_count": 4,
   "metadata": {},
   "outputs": [
    {
     "name": "stdout",
     "output_type": "stream",
     "text": [
      "(226, 2753)\n"
     ]
    }
   ],
   "source": [
    "# Select long_answer from the data\n",
    "long_answer = data.get('Long_Answer')\n",
    "\n",
    "# Preprocess the long_answer\n",
    "long_answer = long_answer.map(lambda x: ' '.join(text_preprocessing(x)))\n",
    "\n",
    "# Vectorize the answers (one-hot), fit_transform() for getting the tf-idf result\n",
    "sparse_vectorizer = CountVectorizer(strip_accents = 'unicode')\n",
    "sparse_vectors = sparse_vectorizer.fit_transform(long_answer)\n",
    "print(sparse_vectors.shape)"
   ]
  },
  {
   "cell_type": "markdown",
   "metadata": {},
   "source": [
    "# 4. Build Topic Model using LDA"
   ]
  },
  {
   "cell_type": "code",
   "execution_count": 15,
   "metadata": {},
   "outputs": [
    {
     "data": {
      "text/plain": "LatentDirichletAllocation(learning_method='online', max_iter=1000,\n                          n_components=4, random_state=0)"
     },
     "execution_count": 15,
     "metadata": {},
     "output_type": "execute_result"
    }
   ],
   "source": [
    "# Your super power to define number of topics\n",
    "n_topics = 4\n",
    "\n",
    "# Run LDA to generate topics/clusters\n",
    "lda = LatentDirichletAllocation(n_components=n_topics, max_iter=1000,\n",
    "                                learning_method='online',\n",
    "                                random_state=0)\n",
    "\n",
    "lda.fit(sparse_vectors)"
   ]
  },
  {
   "cell_type": "markdown",
   "metadata": {},
   "source": [
    "# 5. Display the resulting topics/clusters of ASD FAQ's Long_Answer field"
   ]
  },
  {
   "cell_type": "code",
   "execution_count": 20,
   "metadata": {
    "pycharm": {
     "name": "#%%\n"
    }
   },
   "outputs": [
    {
     "name": "stdout",
     "output_type": "stream",
     "text": [
      "Topic 0:\n",
      "autism disorder asd child may spectrum people behavior social cause\n",
      "Topic 1:\n",
      "child autism may treatment intervention diagnosis early help parent therapy\n",
      "Topic 2:\n",
      "institute national autism tel information health disorder fax behavior md\n",
      "Topic 3:\n",
      "ability assessment behaviour concern specific characteristic academic ot memory diet\n",
      "\n",
      "1st document(long FAQ answer) belongs to Topic 1\n"
     ]
    }
   ],
   "source": [
    "# Print the top-n key words\n",
    "def print_top_words(model, feature_names, n_top_words):\n",
    "    for topic_idx, topic in enumerate(model.components_):\n",
    "        print(\"Topic %d:\" % topic_idx)\n",
    "        print(\" \".join([feature_names[i] for i in topic.argsort()[:-n_top_words - 1:-1]]))\n",
    "    print()\n",
    "\n",
    "# Show the first n_top_words key words\n",
    "n_top_words = 10\n",
    "feature_names = sparse_vectorizer.get_feature_names()\n",
    "print_top_words(lda, feature_names, n_top_words)\n",
    "\n",
    "# test the first document\n",
    "print(\"1st document(long FAQ answer) belongs to Topic\",lda.transform(sparse_vectors[0]).argmax()+1)\n"
   ]
  }
 ],
 "metadata": {
  "kernelspec": {
   "name": "pycharm-b6000c7d",
   "language": "python",
   "display_name": "PyCharm (2.3.3 workshop)"
  },
  "language_info": {
   "codemirror_mode": {
    "name": "ipython",
    "version": 3
   },
   "file_extension": ".py",
   "mimetype": "text/x-python",
   "name": "python",
   "nbconvert_exporter": "python",
   "pygments_lexer": "ipython3",
   "version": "3.6.12"
  }
 },
 "nbformat": 4,
 "nbformat_minor": 4
}